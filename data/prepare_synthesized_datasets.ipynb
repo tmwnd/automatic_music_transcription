{
 "cells": [
  {
   "cell_type": "markdown",
   "metadata": {},
   "source": [
    "## Listen to example wav from GuitarSet dataset"
   ]
  },
  {
   "cell_type": "code",
   "execution_count": null,
   "metadata": {},
   "outputs": [],
   "source": [
    "import IPython\n",
    "IPython.display.Audio(\"guitarset/test/audio/00_BN1-129-Eb_comp_hex.wav\")"
   ]
  },
  {
   "cell_type": "code",
   "execution_count": null,
   "metadata": {},
   "outputs": [],
   "source": [
    "import fluidsynth\n",
    "from midi2audio import FluidSynth\n",
    "fs = FluidSynth()\n",
    "fs.midi_to_audio(\"guitarset/test/labels/00_BN1-129-Eb_comp.jams.mid\", 'output.wav')\n",
    "IPython.display.Audio(\"output.wav\")"
   ]
  },
  {
   "cell_type": "code",
   "execution_count": null,
   "metadata": {},
   "outputs": [],
   "source": [
    "import os\n",
    "import pprint\n",
    "pp = pprint.PrettyPrinter(indent=4)\n",
    "\n",
    "def get_all_midis(directory):\n",
    "    listOfFiles=[]\n",
    "    for (dirpath, dirnames, filenames) in os.walk(directory):\n",
    "        for file in filenames:\n",
    "            if file[-3:] == \"mid\":\n",
    "                listOfFiles.append(os.path.join(dirpath, file))\n",
    "    return listOfFiles\n",
    "\n",
    "midis_filenames = get_all_midis(\"guitarset/test\")\n",
    "example_midi_file = midis_filenames[0]\n",
    "\n",
    "fs.midi_to_audio(example_midi_file, 'output.wav')\n",
    "IPython.display.Audio(\"output.wav\")\n",
    "\n",
    "\n"
   ]
  },
  {
   "cell_type": "code",
   "execution_count": null,
   "metadata": {},
   "outputs": [],
   "source": [
    "import pretty_midi\n",
    "example_midi = pretty_midi.PrettyMIDI(example_midi_file)\n",
    "list_of_instruments = [pretty_midi.program_to_instrument_name(program_int) for program_int in range(0,126)]\n",
    "print(\"List of instruments:\")\n",
    "pp.pprint(list_of_instruments)\n",
    "print(\"Instruments of example:\")\n",
    "pp.pprint([pretty_midi.program_to_instrument_name(instrument.program) for instrument in example_midi.instruments])"
   ]
  },
  {
   "cell_type": "markdown",
   "metadata": {},
   "source": [
    "### Convert  instrument of example"
   ]
  },
  {
   "cell_type": "code",
   "execution_count": null,
   "metadata": {},
   "outputs": [],
   "source": [
    "\n",
    "def convert_to_another_instrument(midi, program=1):\n",
    "    new_instruments_list = []\n",
    "    for instrument in midi.instruments:\n",
    "        new_instruments_list.append(pretty_midi.Instrument(program=program))\n",
    "        for note in instrument.notes:\n",
    "            new_instruments_list[-1].notes.append(note)\n",
    "    midi.instruments = new_instruments_list\n",
    "    return midi\n"
   ]
  },
  {
   "cell_type": "code",
   "execution_count": null,
   "metadata": {},
   "outputs": [],
   "source": [
    "flute_program = pretty_midi.instrument_name_to_program('Flute')\n",
    "example_midi = convert_to_another_instrument(example_midi, flute_program)\n",
    "example_midi.write(\"flute_conversion.mid\")\n",
    "fs.midi_to_audio(\"flute_conversion.mid\", 'flute_conversion.wav')\n",
    "IPython.display.Audio(\"flute_conversion.wav\")"
   ]
  },
  {
   "cell_type": "code",
   "execution_count": null,
   "metadata": {},
   "outputs": [],
   "source": [
    "piano_program = pretty_midi.instrument_name_to_program('Acoustic Grand Piano')\n",
    "example_midi = convert_to_another_instrument(example_midi, piano_program)\n",
    "example_midi.write(\"piano_conversion.mid\")\n",
    "fs.midi_to_audio(\"piano_conversion.mid\", 'piano_conversion.wav')\n",
    "IPython.display.Audio(\"piano_conversion.wav\")"
   ]
  },
  {
   "cell_type": "markdown",
   "metadata": {},
   "source": [
    "## Let's create some datasets for different instruments!"
   ]
  },
  {
   "cell_type": "code",
   "execution_count": null,
   "metadata": {},
   "outputs": [],
   "source": [
    "instrument_list = [\n",
    "                    'Bright Acoustic Piano',\n",
    "                    'Electric Grand Piano',\n",
    "                     'Honky-tonk Piano',\n",
    "                     'Electric Piano 1',\n",
    "                     'Electric Piano 2',\n",
    "#                     'Harpsichord',\n",
    "#                     'Clavinet',\n",
    "#                     'Celesta',\n",
    "#                     'Glockenspiel',\n",
    "#                     'Music Box',\n",
    "                     'Vibraphone',\n",
    "#                     'Marimba',\n",
    "                     'Xylophone',\n",
    "#                     'Tubular Bells',\n",
    "#                     'Dulcimer',\n",
    "#                     'Drawbar Organ',\n",
    "#                     'Percussive Organ',\n",
    "                     'Rock Organ',\n",
    "                     'Church Organ',\n",
    "#                     'Reed Organ',\n",
    "                     'Accordion',\n",
    "                     'Harmonica',\n",
    "#                     'Tango Accordion',\n",
    "                    'Acoustic Guitar (nylon)',\n",
    "                     'Acoustic Guitar (steel)',\n",
    "                     'Electric Guitar (jazz)',\n",
    "                     'Electric Guitar (clean)',\n",
    "                     'Electric Guitar (muted)',\n",
    "                     'Overdriven Guitar',\n",
    "                     'Distortion Guitar',\n",
    "                     'Guitar Harmonics',\n",
    "                     'Acoustic Bass',\n",
    "                     'Electric Bass (finger)',\n",
    "                     'Electric Bass (pick)',\n",
    "                     'Fretless Bass',\n",
    "                     'Slap Bass 1',\n",
    "                     'Slap Bass 2',\n",
    "                     'Synth Bass 1',\n",
    "                     'Synth Bass 2',\n",
    "                     'Violin',\n",
    "                     'Viola',\n",
    "                    'Cello',\n",
    "                     'Contrabass',\n",
    "#                     'Tremolo Strings',\n",
    "#                     'Pizzicato Strings',\n",
    "                     'Orchestral Harp',\n",
    "#                     'Timpani',\n",
    "                     'String Ensemble 1',\n",
    "#                     'String Ensemble 2',\n",
    "                     'Synth Strings 1',\n",
    "#                     'Synth Strings 2',\n",
    "#                     'Choir Aahs',\n",
    "#                     'Voice Oohs',\n",
    "#                     'Synth Choir',\n",
    "#                     'Orchestra Hit',\n",
    "                     'Trumpet',\n",
    "#                     'Trombone',\n",
    "                     'Tuba',\n",
    "#                     'Muted Trumpet',\n",
    "#                     'French Horn',\n",
    "#                     'Brass Section',\n",
    "#                     'Synth Brass 1',\n",
    "#                     'Synth Brass 2',\n",
    "#                     'Soprano Sax',\n",
    "#                     'Alto Sax',\n",
    "#                     'Tenor Sax',\n",
    "#                     'Baritone Sax',\n",
    "#                     'Oboe',\n",
    "#                     'English Horn',\n",
    "#                     'Bassoon',\n",
    "#                     'Clarinet',\n",
    "#                     'Piccolo',\n",
    "#                     'Flute',\n",
    "#                     'Recorder',\n",
    "#                     'Pan Flute',\n",
    "#                     'Blown bottle',\n",
    "#                     'Shakuhachi',\n",
    "#                     'Whistle',\n",
    "#                    'Ocarina',\n",
    "                    'Acoustic Grand Piano',]\n",
    "print(\"Generating datasets for following instruments:\")\n",
    "print(instrument_list)"
   ]
  },
  {
   "cell_type": "code",
   "execution_count": null,
   "metadata": {},
   "outputs": [],
   "source": [
    "%%capture\n",
    "import shutil\n",
    "import os, sys\n",
    "from IPython.utils import io\n",
    "from sklearn.model_selection import train_test_split\n",
    "\n",
    "\n",
    "def standarize_name(name):\n",
    "    return name.lower().replace(' ', '_').replace('(','').replace(')','')\n",
    "\n",
    "def make_standard_directories(path):\n",
    "    print(f\"Creating directory {path} test/val/train...\")\n",
    "    os.makedirs(f'{path}')\n",
    "    os.makedirs(f'{path}/test')\n",
    "    os.makedirs(f'{path}/val')\n",
    "    os.makedirs(f'{path}/train')\n",
    "\n",
    "def copy_labels_to_target_dir(label_list, target_dir):\n",
    "    print(f\"Copying labels to {target_dir}/labels...\")\n",
    "    os.makedirs(f'{target_dir}/labels')\n",
    "    for label in label_list:\n",
    "        shutil.copy(label, target_dir+\"/labels/\")\n",
    "\n",
    "def synthesize_instrument_for_labels(labels_directory, output_directory, instrument_name):\n",
    "    label_files = get_all_midis(labels_directory)\n",
    "    program = pretty_midi.instrument_name_to_program(instrument_name)\n",
    "    print(f\"Detected program for given instrument {instrument_name}: {program}\")\n",
    "    os.makedirs(f'{output_directory}')\n",
    "    for label in label_files:\n",
    "            midi = pretty_midi.PrettyMIDI(label)\n",
    "            midi = convert_to_another_instrument(midi, program)\n",
    "            midi.write(f'{output_directory}/{os.path.basename(label)}.mid')\n",
    "            with io.capture_output() as captured:\n",
    "                fs.midi_to_audio(f'{output_directory}/{os.path.basename(label)}.mid',\n",
    "                                 f'{output_directory}/{os.path.basename(label)}.wav')\n",
    "            os.remove(f'{output_directory}/{os.path.basename(label)}.mid')\n",
    "            os.rename(f'{output_directory}/{os.path.basename(label)}.wav',\n",
    "                      f'{output_directory}/{os.path.basename(label)[:-9]}_hex.wav')\n",
    "\n",
    "def create_files_for_phase(labels, instrument, phase):\n",
    "    directory_name = f'synthesize_{standarize_name(instrument)}'\n",
    "    os.makedirs(f'{directory_name}/{phase}')\n",
    "    copy_labels_to_target_dir(labels, f'{directory_name}/{phase}')\n",
    "    synthesize_instrument_for_labels(f'{directory_name}/{phase}/',\n",
    "                                     f'{directory_name}/{phase}/audio',\n",
    "                                     instrument)\n",
    "\n",
    "def generate_datasets_for_instruments(instrument):\n",
    "    train_filenames = get_all_midis(\"guitarset/train\")\n",
    "    test_filenames = get_all_midis(\"guitarset/test\")\n",
    "    val_filenames = get_all_midis(\"guitarset/val\")\n",
    "    directory_name = f'synthesize_{standarize_name(instrument)}'\n",
    "    os.makedirs(directory_name)\n",
    "    create_files_for_phase(train_filenames, instrument, 'train')\n",
    "    create_files_for_phase(test_filenames, instrument, 'test')\n",
    "    create_files_for_phase(val_filenames, instrument, 'val')\n",
    "\n",
    "#generate_datasets_for_instruments(instrument_list)\n"
   ]
  },
  {
   "cell_type": "code",
   "execution_count": null,
   "metadata": {},
   "outputs": [],
   "source": [
    "from multiprocessing import Pool\n",
    "\n",
    "with Pool(12) as pool:\n",
    "    pool.map(generate_datasets_for_instruments, instrument_list)"
   ]
  },
  {
   "cell_type": "code",
   "execution_count": null,
   "metadata": {},
   "outputs": [],
   "source": []
  }
 ],
 "metadata": {
  "interpreter": {
   "hash": "71270913b32b519ea672d05262b4f36b7df7e242bfe061abf756fa0ff986a022"
  },
  "kernelspec": {
   "display_name": "Python 3 (ipykernel)",
   "language": "python",
   "name": "python3"
  },
  "language_info": {
   "codemirror_mode": {
    "name": "ipython",
    "version": 3
   },
   "file_extension": ".py",
   "mimetype": "text/x-python",
   "name": "python",
   "nbconvert_exporter": "python",
   "pygments_lexer": "ipython3",
   "version": "3.7.7"
  }
 },
 "nbformat": 4,
 "nbformat_minor": 2
}
