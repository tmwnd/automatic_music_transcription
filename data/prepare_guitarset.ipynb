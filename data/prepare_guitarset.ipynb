{
 "cells": [
  {
   "cell_type": "markdown",
   "metadata": {},
   "source": [
    "## Download GuitarSet dataset (optional step, if you does not have **guitarset.zip**)"
   ]
  },
  {
   "cell_type": "code",
   "execution_count": 17,
   "metadata": {},
   "outputs": [
    {
     "name": "stdout",
     "output_type": "stream",
     "text": [
      "file already present:  guitarset_data.zip\n",
      "file already present:  guitarset_label.zip\n"
     ]
    }
   ],
   "source": [
    "import wget\n",
    "import os\n",
    "\n",
    "def download_file(URL, destination_name):\n",
    "    isGuitarSetZipPresent = os.path.exists(destination_name)\n",
    "    if not isGuitarSetZipPresent:\n",
    "        print(\"Started downloading \", destination_name)\n",
    "        response = wget.download(URL, destination_name)\n",
    "        print(\"Finished\")\n",
    "    else:\n",
    "        print(\"file already present: \", destination_name)\n",
    "\n",
    "data_URL = \"https://zenodo.org/record/3371780/files/audio_hex-pickup_original.zip\"\n",
    "download_file(data_URL, \"guitarset_data.zip\")\n",
    "\n",
    "label_URL = \"https://zenodo.org/record/3371780/files/annotation.zip\"\n",
    "download_file(label_URL, \"guitarset_label.zip\")"
   ]
  },
  {
   "cell_type": "markdown",
   "metadata": {},
   "source": [
    "## Unzip **guitarset.zip** to **GuitarSet** directory"
   ]
  },
  {
   "cell_type": "code",
   "execution_count": 18,
   "metadata": {},
   "outputs": [
    {
     "name": "stdout",
     "output_type": "stream",
     "text": [
      "GuitarSet path already exists! Nothing is performed!\n"
     ]
    }
   ],
   "source": [
    "import zipfile\n",
    "\n",
    "with zipfile.ZipFile(\"guitarset_data.zip\", 'r') as zip_ref_data:\n",
    "    with zipfile.ZipFile(\"guitarset_label.zip\", 'r') as zip_ref_label:\n",
    "        isExist = os.path.exists(\"GuitarSet_extracted\")\n",
    "        if not isExist:\n",
    "            os.makedirs(\"GuitarSet_extracted\")\n",
    "            os.makedirs(\"GuitarSet_extracted/audio\")\n",
    "            os.makedirs(\"GuitarSet_extracted/labels\")\n",
    "            print(\"The new directory is created!\")\n",
    "            zip_ref_data.extractall(\"GuitarSet_extracted/audio\")\n",
    "            zip_ref_label.extractall(\"GuitarSet_extracted/labels\")\n",
    "            print(\"Finished unpack\")\n",
    "        else:\n",
    "            print(\"GuitarSet path already exists! Nothing is performed!\")\n"
   ]
  },
  {
   "cell_type": "markdown",
   "metadata": {},
   "source": [
    "## Setting paths"
   ]
  },
  {
   "cell_type": "code",
   "execution_count": 19,
   "metadata": {},
   "outputs": [],
   "source": [
    "#transform GuitarSet dataset to preprocessed guitarset directory\n",
    "gs_path = \"GuitarSet_extracted\"\n",
    "destination_path = \"guitarset\"\n",
    "os.mkdir(destination_path)"
   ]
  },
  {
   "cell_type": "markdown",
   "metadata": {},
   "source": [
    "## Train-test split"
   ]
  },
  {
   "cell_type": "code",
   "execution_count": 20,
   "metadata": {},
   "outputs": [
    {
     "name": "stdout",
     "output_type": "stream",
     "text": [
      "\n"
     ]
    }
   ],
   "source": [
    "import jams\n",
    "import os\n",
    "import matplotlib.pyplot as plt\n",
    "import glob\n",
    "import os\n",
    "\n",
    "# All files and directories ending with .txt with depth of 2 folders, ignoring names beginning with a dot:\n",
    "list_of_recordings = glob.glob(f'{gs_path}/audio/*.wav')\n",
    "list_of_labels = glob.glob(f'{gs_path}/labels/*.jams')\n",
    "list_of_recordings.sort()\n",
    "list_of_labels.sort()\n",
    "print()\n",
    "for i, element in enumerate(list_of_recordings):\n",
    "    element_name = os.path.basename(element)[:-8]\n",
    "    label_name = os.path.basename(list_of_labels[i])[:-5]\n",
    "    if(element_name != label_name):\n",
    "        raise Exception(f\"problem with names! {element_name} != {label_name}\")\n",
    "\n",
    "import pandas as pd\n",
    "from sklearn.model_selection import train_test_split\n",
    "\n",
    "# Let's say we want to split the data in 80:10:10 for train:valid:test dataset\n",
    "train_size=0.8\n",
    "\n",
    "# In the first step we will split the data in training and remaining dataset\n",
    "X_train, X_rem, y_train, y_rem = train_test_split(list_of_recordings,list_of_labels, train_size=0.8, random_state=33)\n",
    "\n",
    "# Now since we want the valid and test size to be equal (10% each of overall data). \n",
    "# we have to define valid_size=0.5 (that is 50% of remaining data)\n",
    "test_size = 0.5\n",
    "X_valid, X_test, y_valid, y_test = train_test_split(X_rem,y_rem, test_size=0.5)\n",
    "\n",
    "# print(\"X_train: \", X_train)\n",
    "# print(\"Y_train: \", y_train)\n",
    "# print(\"X_valid\", X_valid)\n",
    "# print(\"y_valid\", y_valid)\n",
    "# print(\"X_test\", X_test)\n",
    "# print(\"y_test\", y_test)\n",
    "\n",
    "# for filename in list_of_files:\n",
    "#     jam = jams.load(os.path.join(gs_path+anno_dir, filename))\n",
    "#     prettyMidiRepresentation = itp.jams_to_midi(jam)\n",
    "#     prettyMidiRepresentation.write(filename+\".mid\")"
   ]
  },
  {
   "cell_type": "markdown",
   "metadata": {},
   "source": [
    "## create directories for test val and train and copy there splitted files"
   ]
  },
  {
   "cell_type": "code",
   "execution_count": 21,
   "metadata": {},
   "outputs": [],
   "source": [
    "# make new directories\n",
    "from pathlib import Path\n",
    "import shutil\n",
    "\n",
    "def copy_to_exact_directory(X_dir, y_dir, dir=\"train\"):\n",
    "    Path(destination_path+\"/\" + dir + \"/audio\").mkdir(parents=True, exist_ok=True)\n",
    "    Path(destination_path+\"/\" + dir + \"/labels\").mkdir(parents=True, exist_ok=True)\n",
    "\n",
    "    for X, y in zip(X_dir, y_dir):\n",
    "        shutil.copy(X, destination_path+\"/\" + dir + \"/audio\")\n",
    "        shutil.copy(y, destination_path+\"/\" + dir + \"/labels\")\n",
    "\n",
    "copy_to_exact_directory(X_test, y_test, \"test\")\n",
    "copy_to_exact_directory(X_valid, y_valid, \"val\")\n",
    "copy_to_exact_directory(X_train, y_train, \"train\")"
   ]
  },
  {
   "cell_type": "markdown",
   "metadata": {},
   "source": [
    "## preprocessing all jams file (converting them to midi)"
   ]
  },
  {
   "cell_type": "code",
   "execution_count": 22,
   "metadata": {},
   "outputs": [],
   "source": [
    "#preprocess given jams files\n",
    "import interpreter as itp\n",
    "\n",
    "def jams_to_midi_conversion(label_directory):\n",
    "    list_of_labels = glob.glob(f'{label_directory}/labels/*.jams')\n",
    "    for filename in list_of_labels:\n",
    "        jam = jams.load(filename)\n",
    "        prettyMidiRepresentation = itp.jams_to_midi(jam)\n",
    "        prettyMidiRepresentation.write(filename+\".mid\")\n",
    "\n",
    "jams_to_midi_conversion(destination_path+\"/train/\")\n",
    "jams_to_midi_conversion(destination_path+\"/val/\")\n",
    "jams_to_midi_conversion(destination_path+\"/test/\")"
   ]
  },
  {
   "cell_type": "markdown",
   "metadata": {},
   "source": [
    "## one example of preprocessed jam"
   ]
  },
  {
   "cell_type": "code",
   "execution_count": 23,
   "metadata": {},
   "outputs": [
    {
     "data": {
      "image/png": "[encoded data removed]",
      "text/plain": [
       "<Figure size 432x216 with 1 Axes>"
      ]
     },
     "metadata": {
      "needs_background": "light"
     },
     "output_type": "display_data"
    }
   ],
   "source": [
    "#show last example\n",
    "jam = jams.load(destination_path+\"/train/labels/00_BN1-147-Gb_comp.jams\")\n",
    "instructed_chords = jam.search(namespace='chord')[0]\n",
    "performed_chords = jam.search(namespace='chord')[1]\n",
    "\n",
    "itp.visualize_jams_note(jam)\n",
    "plt.show()"
   ]
  },
  {
   "cell_type": "code",
   "execution_count": null,
   "metadata": {},
   "outputs": [],
   "source": []
  }
 ],
 "metadata": {
  "interpreter": {
   "hash": "016113cf93b3b194c5b04ed26c959f6ae54a14a0dcccb3b984750da79a0b0d90"
  },
  "kernelspec": {
   "display_name": "Python 3.7.13 ('venv': venv)",
   "language": "python",
   "name": "python3"
  },
  "language_info": {
   "codemirror_mode": {
    "name": "ipython",
    "version": 3
   },
   "file_extension": ".py",
   "mimetype": "text/x-python",
   "name": "python",
   "nbconvert_exporter": "python",
   "pygments_lexer": "ipython3",
   "version": "3.7.13"
  }
 },
 "nbformat": 4,
 "nbformat_minor": 2
}
