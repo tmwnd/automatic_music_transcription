{
 "cells": [
  {
   "cell_type": "code",
   "execution_count": 2,
   "id": "b1364312",
   "metadata": {},
   "outputs": [
    {
     "name": "stderr",
     "output_type": "stream",
     "text": [
      "/home/users/twende/miniconda3/envs/music-transcription-frozen/lib/python3.8/site-packages/torchvision/io/image.py:13: UserWarning: Failed to load image Python extension: /home/users/twende/miniconda3/envs/music-transcription-frozen/lib/python3.8/site-packages/torchvision/image.so: undefined symbol: _ZN3c1017RegisterOperatorsD1Ev\n",
      "  warn(f\"Failed to load image Python extension: {e}\")\n"
     ]
    }
   ],
   "source": [
    "import copy\n",
    "import os\n",
    "import pickle\n",
    "import random\n",
    "from datetime import datetime\n",
    "\n",
    "import matplotlib.pyplot as plt\n",
    "import numpy as np\n",
    "import torch\n",
    "import torch.backends.cudnn\n",
    "from sacred import Experiment\n",
    "from sacred.commands import print_config, save_config\n",
    "from sacred.observers import FileStorageObserver\n",
    "from torch.nn.utils import clip_grad_norm_\n",
    "from torch.optim.lr_scheduler import StepLR\n",
    "from torch.utils.data import DataLoader\n",
    "from torch.utils.tensorboard import SummaryWriter\n",
    "from tqdm import tqdm\n",
    "\n",
    "from fail_observer import FailObserver\n",
    "from model import *\n",
    "from model.constants import *\n",
    "from model.dataset import (OriginalMAPS, SynthesizedInstruments,\n",
    "                           SynthesizedTrumpet, CustomBatchDataset)\n",
    "from model.evaluate_fn import evaluate_wo_velocity\n",
    "from snapshot import Snapshot"
   ]
  },
  {
   "cell_type": "code",
   "execution_count": null,
   "id": "fd5202e9",
   "metadata": {},
   "outputs": [
    {
     "name": "stdout",
     "output_type": "stream",
     "text": [
      "CQT kernels created, time used = 0.1790 seconds\n"
     ]
    },
    {
     "name": "stderr",
     "output_type": "stream",
     "text": [
      "/tmp/ipykernel_1680394/4241064724.py:13: FutureWarning: You are using `torch.load` with `weights_only=False` (the current default value), which uses the default pickle module implicitly. It is possible to construct malicious pickle data which will execute arbitrary code during unpickling (See https://github.com/pytorch/pytorch/blob/main/SECURITY.md#untrusted-models for more details). In a future release, the default value for `weights_only` will be flipped to `True`. This limits the functions that could be executed during unpickling. Arbitrary objects will no longer be allowed to be loaded via this mode unless they are explicitly allowlisted by the user via `torch.serialization.add_safe_globals`. We recommend you start setting `weights_only=True` for any use case where you don't have full control of the loaded file. Please open an issue on GitHub for any issues related to this experimental feature.\n",
      "  snapshot = torch.load(\"results/unet_model_trained_on_GuitarSet/model-50.pt\")\n"
     ]
    },
    {
     "ename": "KeyError",
     "evalue": "'model_state_dict'",
     "output_type": "error",
     "traceback": [
      "\u001b[0;31m---------------------------------------------------------------------------\u001b[0m",
      "\u001b[0;31mKeyError\u001b[0m                                  Traceback (most recent call last)",
      "Input \u001b[0;32mIn [3]\u001b[0m, in \u001b[0;36m<cell line: 15>\u001b[0;34m()\u001b[0m\n\u001b[1;32m     11\u001b[0m \u001b[38;5;66;03m# load model, optimizer, scheduler, batch, epoch and batch_idx from test.pt\u001b[39;00m\n\u001b[1;32m     12\u001b[0m \u001b[38;5;66;03m# snapshot = torch.load(\"error_snapshot_ep_batch.pt\")\u001b[39;00m\n\u001b[1;32m     13\u001b[0m snapshot \u001b[38;5;241m=\u001b[39m torch\u001b[38;5;241m.\u001b[39mload(\u001b[38;5;124m\"\u001b[39m\u001b[38;5;124mresults/unet_model_trained_on_GuitarSet/model-50.pt\u001b[39m\u001b[38;5;124m\"\u001b[39m)\n\u001b[0;32m---> 15\u001b[0m model\u001b[38;5;241m.\u001b[39mload_my_state_dict(\u001b[43msnapshot\u001b[49m\u001b[43m[\u001b[49m\u001b[38;5;124;43m'\u001b[39;49m\u001b[38;5;124;43mmodel_state_dict\u001b[39;49m\u001b[38;5;124;43m'\u001b[39;49m\u001b[43m]\u001b[49m)\n\u001b[1;32m     16\u001b[0m optimizer\u001b[38;5;241m.\u001b[39mload_state_dict(snapshot[\u001b[38;5;124m'\u001b[39m\u001b[38;5;124moptimizer_state_dict\u001b[39m\u001b[38;5;124m'\u001b[39m])\n\u001b[1;32m     17\u001b[0m scheduler\u001b[38;5;241m.\u001b[39mload_state_dict(snapshot[\u001b[38;5;124m'\u001b[39m\u001b[38;5;124mscheduler_state_dict\u001b[39m\u001b[38;5;124m'\u001b[39m])\n",
      "\u001b[0;31mKeyError\u001b[0m: 'model_state_dict'"
     ]
    }
   ],
   "source": [
    "# load model\n",
    "\n",
    "model = UnetTranscriptionModel(\n",
    "    ds_ksize=(2, 2), ds_stride=(2, 2), mode=\"imagewise\",\n",
    "    spec='CQT', norm=1, device=\"cuda:1\", logdir=\"unet_temp\", debug_mode=False\n",
    ")\n",
    "model.to(\"cuda:1\")\n",
    "optimizer = torch.optim.Adam(model.parameters(), lr=0.01)\n",
    "scheduler = StepLR(optimizer, step_size=10000, gamma=0.98)\n",
    "\n",
    "# load model, optimizer, scheduler, batch, epoch and batch_idx from test.pt\n",
    "snapshot = torch.load(\"error_snapshot_ep_batch.pt\")\n",
    "\n",
    "model.load_my_state_dict(snapshot['model_state_dict'])\n",
    "optimizer.load_state_dict(snapshot['optimizer_state_dict'])\n",
    "scheduler.load_state_dict(snapshot['scheduler_state_dict'])\n",
    "\n",
    "batch = snapshot['batch']\n",
    "ep = snapshot['epoch']\n",
    "batch_idx = snapshot['batch_idx']"
   ]
  },
  {
   "cell_type": "code",
   "execution_count": null,
   "id": "21d86ffb",
   "metadata": {},
   "outputs": [],
   "source": [
    "for key in batch.keys():\n",
    "    if key == \"path\": continue\n",
    "    \n",
    "    batch[key] = batch[key].to(\"cuda:1\")"
   ]
  },
  {
   "cell_type": "code",
   "execution_count": 5,
   "id": "9bc7ed59",
   "metadata": {},
   "outputs": [],
   "source": [
    "predictions, losses, _ = model.run_on_batch(batch, batch_description=str(ep), batch_identifier=batch_idx)"
   ]
  },
  {
   "cell_type": "code",
   "execution_count": 9,
   "id": "7fea2397",
   "metadata": {},
   "outputs": [],
   "source": [
    "total_loss = 0\n",
    "loss = sum(losses.values())\n",
    "total_loss += loss.item()\n",
    "loss.backward()"
   ]
  }
 ],
 "metadata": {
  "kernelspec": {
   "display_name": "music-transcription-frozen",
   "language": "python",
   "name": "python3"
  },
  "language_info": {
   "codemirror_mode": {
    "name": "ipython",
    "version": 3
   },
   "file_extension": ".py",
   "mimetype": "text/x-python",
   "name": "python",
   "nbconvert_exporter": "python",
   "pygments_lexer": "ipython3",
   "version": "3.8.0"
  }
 },
 "nbformat": 4,
 "nbformat_minor": 5
}
